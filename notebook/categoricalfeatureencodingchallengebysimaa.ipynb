{
 "cells": [
  {
   "cell_type": "markdown",
   "id": "a137d3ca",
   "metadata": {
    "id": "suwSjKIeQpLI",
    "papermill": {
     "duration": 0.014492,
     "end_time": "2022-05-19T19:07:13.228403",
     "exception": false,
     "start_time": "2022-05-19T19:07:13.213911",
     "status": "completed"
    },
    "tags": []
   },
   "source": [
    "### Team Member\n",
    "\n",
    "*   Simaa Abumousa\n",
    "\n"
   ]
  },
  {
   "cell_type": "code",
   "execution_count": 1,
   "id": "87163e7d",
   "metadata": {
    "execution": {
     "iopub.execute_input": "2022-05-19T19:07:13.258738Z",
     "iopub.status.busy": "2022-05-19T19:07:13.257965Z",
     "iopub.status.idle": "2022-05-19T19:07:14.670287Z",
     "shell.execute_reply": "2022-05-19T19:07:14.669227Z"
    },
    "papermill": {
     "duration": 1.4305,
     "end_time": "2022-05-19T19:07:14.673528",
     "exception": false,
     "start_time": "2022-05-19T19:07:13.243028",
     "status": "completed"
    },
    "tags": []
   },
   "outputs": [],
   "source": [
    "import numpy as np\n",
    "import pandas as pd\n",
    "from sklearn.model_selection import KFold\n",
    "from sklearn.metrics import roc_auc_score as auc\n",
    "from sklearn.linear_model import LogisticRegression\n",
    "from sklearn.preprocessing import OrdinalEncoder"
   ]
  },
  {
   "cell_type": "code",
   "execution_count": 2,
   "id": "0eeea158",
   "metadata": {
    "execution": {
     "iopub.execute_input": "2022-05-19T19:07:14.702204Z",
     "iopub.status.busy": "2022-05-19T19:07:14.701857Z",
     "iopub.status.idle": "2022-05-19T19:07:18.093523Z",
     "shell.execute_reply": "2022-05-19T19:07:18.092350Z"
    },
    "papermill": {
     "duration": 3.409404,
     "end_time": "2022-05-19T19:07:18.096457",
     "exception": false,
     "start_time": "2022-05-19T19:07:14.687053",
     "status": "completed"
    },
    "tags": []
   },
   "outputs": [],
   "source": [
    "train = pd.read_csv(\"../input/cat-in-the-dat/train.csv\")\n",
    "test = pd.read_csv(\"../input/cat-in-the-dat/test.csv\")"
   ]
  },
  {
   "cell_type": "markdown",
   "id": "eaf9fcb5",
   "metadata": {
    "papermill": {
     "duration": 0.01376,
     "end_time": "2022-05-19T19:07:18.125988",
     "exception": false,
     "start_time": "2022-05-19T19:07:18.112228",
     "status": "completed"
    },
    "tags": []
   },
   "source": [
    "##### Dropping bin_0\n",
    "##### Ordinal encoding for the \"ord\" columns\n",
    "##### One-hot encoding for \"nom\", \"day\" and \"month\" columns"
   ]
  },
  {
   "cell_type": "code",
   "execution_count": 3,
   "id": "eada98fc",
   "metadata": {
    "execution": {
     "iopub.execute_input": "2022-05-19T19:07:18.155795Z",
     "iopub.status.busy": "2022-05-19T19:07:18.155437Z",
     "iopub.status.idle": "2022-05-19T19:07:18.579917Z",
     "shell.execute_reply": "2022-05-19T19:07:18.578306Z"
    },
    "papermill": {
     "duration": 0.443151,
     "end_time": "2022-05-19T19:07:18.583095",
     "exception": false,
     "start_time": "2022-05-19T19:07:18.139944",
     "status": "completed"
    },
    "tags": []
   },
   "outputs": [],
   "source": [
    "target = train['target']\n",
    "train_id = train['id']\n",
    "test_id = test['id']\n",
    "train.drop(['target', 'id'], axis=1, inplace=True)\n",
    "test.drop('id', axis=1, inplace=True)\n",
    "\n",
    "mapper_bin_3 = {'T': 1, 'F': 0}\n",
    "mapper_bin_4 = {'Y': 1, 'N': 0}\n",
    "\n",
    "mapper_ord_1 = {'Novice': 1, \n",
    "                'Contributor': 2,\n",
    "                'Expert': 3, \n",
    "                'Master': 4, \n",
    "                'Grandmaster': 5}\n",
    "mapper_ord_2 = {'Freezing': 1, \n",
    "                'Cold': 2, \n",
    "                'Warm': 3, \n",
    "                'Hot': 4,\n",
    "                'Boiling Hot': 5, \n",
    "                'Lava Hot': 6}\n",
    "mapper_ord_3 = {'a': 1, 'b': 2, 'c': 3, 'd': 4, 'e': 5, 'f': 6, 'g': 7, 'h': 8, \n",
    "                'i': 9, 'j': 10, 'k': 11, 'l': 12, 'm': 13, 'n': 14, 'o': 15}\n",
    "mapper_ord_4 = {'A': 1, 'B': 2, 'C': 3, 'D': 4, 'E': 5, 'F': 6, 'G': 7, 'H': 8, \n",
    "                'I': 9, 'J': 10, 'K': 11, 'L': 12, 'M': 13, 'N': 14, 'O': 15,\n",
    "                'P': 16, 'Q': 17, 'R': 18, 'S': 19, 'T': 20, 'U': 21, 'V': 22, \n",
    "                'W': 23, 'X': 24, 'Y': 25, 'Z': 26}\n",
    "\n",
    "all_data = pd.concat([train, test])"
   ]
  },
  {
   "cell_type": "code",
   "execution_count": 4,
   "id": "edc27a5d",
   "metadata": {
    "execution": {
     "iopub.execute_input": "2022-05-19T19:07:18.613515Z",
     "iopub.status.busy": "2022-05-19T19:07:18.613168Z",
     "iopub.status.idle": "2022-05-19T19:07:22.121181Z",
     "shell.execute_reply": "2022-05-19T19:07:22.119938Z"
    },
    "papermill": {
     "duration": 3.526918,
     "end_time": "2022-05-19T19:07:22.124213",
     "exception": false,
     "start_time": "2022-05-19T19:07:18.597295",
     "status": "completed"
    },
    "tags": []
   },
   "outputs": [],
   "source": [
    "all_data['day'] = all_data['day'].apply(str)\n",
    "all_data['month'] = all_data['month'].apply(str)\n",
    "\n",
    "all_data['bin_3_oe'] = all_data['bin_3'].replace(mapper_bin_3)\n",
    "all_data['bin_4_oe'] = all_data['bin_4'].replace(mapper_bin_4)\n",
    "all_data['ord_1_oe'] = all_data['ord_1'].replace(mapper_ord_1)\n",
    "all_data['ord_2_oe'] = all_data['ord_2'].replace(mapper_ord_2)\n",
    "all_data['ord_3_oe'] = all_data['ord_3'].replace(mapper_ord_3)\n",
    "all_data['ord_4_oe'] = all_data['ord_4'].replace(mapper_ord_4)"
   ]
  },
  {
   "cell_type": "code",
   "execution_count": 5,
   "id": "63bbb813",
   "metadata": {
    "execution": {
     "iopub.execute_input": "2022-05-19T19:07:22.152085Z",
     "iopub.status.busy": "2022-05-19T19:07:22.151727Z",
     "iopub.status.idle": "2022-05-19T19:07:22.156324Z",
     "shell.execute_reply": "2022-05-19T19:07:22.155498Z"
    },
    "papermill": {
     "duration": 0.021167,
     "end_time": "2022-05-19T19:07:22.158460",
     "exception": false,
     "start_time": "2022-05-19T19:07:22.137293",
     "status": "completed"
    },
    "tags": []
   },
   "outputs": [],
   "source": [
    "#all_data['day']"
   ]
  },
  {
   "cell_type": "code",
   "execution_count": 6,
   "id": "d7937a76",
   "metadata": {
    "execution": {
     "iopub.execute_input": "2022-05-19T19:07:22.187681Z",
     "iopub.status.busy": "2022-05-19T19:07:22.187310Z",
     "iopub.status.idle": "2022-05-19T19:07:22.786678Z",
     "shell.execute_reply": "2022-05-19T19:07:22.785563Z"
    },
    "papermill": {
     "duration": 0.617584,
     "end_time": "2022-05-19T19:07:22.789652",
     "exception": false,
     "start_time": "2022-05-19T19:07:22.172068",
     "status": "completed"
    },
    "tags": []
   },
   "outputs": [],
   "source": [
    "ordinal_encoder = OrdinalEncoder()   \n",
    "data_ord_encoded = ordinal_encoder.fit_transform(all_data[['ord_5']])\n",
    "data_ord_encoded_PD = pd.DataFrame(data_ord_encoded, dtype=\"int64\")\n",
    "data_ord_encoded_PD.rename(columns={0:'ord_5'}, inplace=True)"
   ]
  },
  {
   "cell_type": "code",
   "execution_count": 7,
   "id": "6f9669ad",
   "metadata": {
    "execution": {
     "iopub.execute_input": "2022-05-19T19:07:22.817692Z",
     "iopub.status.busy": "2022-05-19T19:07:22.817324Z",
     "iopub.status.idle": "2022-05-19T19:07:23.589863Z",
     "shell.execute_reply": "2022-05-19T19:07:23.588713Z"
    },
    "papermill": {
     "duration": 0.789889,
     "end_time": "2022-05-19T19:07:23.592656",
     "exception": false,
     "start_time": "2022-05-19T19:07:22.802767",
     "status": "completed"
    },
    "tags": []
   },
   "outputs": [],
   "source": [
    "# drop bin_0\n",
    "all_data.drop([\"bin_0\", \"bin_3\", \"bin_4\", 'ord_1','ord_2','ord_3','ord_4','ord_5'], axis=1, inplace=True)\n",
    "all_data = all_data.reset_index()\n",
    "all_data = pd.concat([all_data, data_ord_encoded_PD], axis=1)\n",
    "all_data.drop(\"index\", axis=1, inplace=True)"
   ]
  },
  {
   "cell_type": "code",
   "execution_count": 8,
   "id": "21ce3b3b",
   "metadata": {
    "execution": {
     "iopub.execute_input": "2022-05-19T19:07:23.624364Z",
     "iopub.status.busy": "2022-05-19T19:07:23.623344Z",
     "iopub.status.idle": "2022-05-19T19:12:33.791224Z",
     "shell.execute_reply": "2022-05-19T19:12:33.790321Z"
    },
    "papermill": {
     "duration": 310.186046,
     "end_time": "2022-05-19T19:12:33.793914",
     "exception": false,
     "start_time": "2022-05-19T19:07:23.607868",
     "status": "completed"
    },
    "tags": []
   },
   "outputs": [
    {
     "name": "stdout",
     "output_type": "stream",
     "text": [
      "(300000, 16305)\n",
      "(200000, 16305)\n",
      "CPU times: user 5min 9s, sys: 739 ms, total: 5min 9s\n",
      "Wall time: 5min 10s\n"
     ]
    }
   ],
   "source": [
    "%%time\n",
    "# One Hot Encode\n",
    "dummies = pd.get_dummies(all_data, drop_first=False, sparse=True, \n",
    "                        columns=['nom_0', 'nom_1', 'nom_2', 'nom_3', 'nom_4', 'nom_5','nom_7', 'nom_6', 'nom_8','nom_9',\n",
    "                                'day', 'month'])\n",
    "train_ohe = dummies.iloc[:train.shape[0], :]\n",
    "test_ohe = dummies.iloc[train.shape[0]:, :]\n",
    "\n",
    "print(train_ohe.shape)\n",
    "print(test_ohe.shape)\n",
    "\n",
    "train_ohe = train_ohe.astype(pd.SparseDtype(\"int\", 0))\n",
    "test_ohe = test_ohe.astype(pd.SparseDtype(\"int\", 0))\n",
    "\n",
    "train_ohe = train_ohe.sparse.to_coo().tocsr()\n",
    "test_ohe = test_ohe.sparse.to_coo().tocsr()"
   ]
  },
  {
   "cell_type": "code",
   "execution_count": 9,
   "id": "de89e37c",
   "metadata": {
    "execution": {
     "iopub.execute_input": "2022-05-19T19:12:33.832385Z",
     "iopub.status.busy": "2022-05-19T19:12:33.831135Z",
     "iopub.status.idle": "2022-05-19T19:12:33.838101Z",
     "shell.execute_reply": "2022-05-19T19:12:33.836663Z"
    },
    "papermill": {
     "duration": 0.029642,
     "end_time": "2022-05-19T19:12:33.841140",
     "exception": false,
     "start_time": "2022-05-19T19:12:33.811498",
     "status": "completed"
    },
    "tags": []
   },
   "outputs": [],
   "source": [
    "param={'n_estimators':100000,\n",
    "     'boosting_type':'gbdt',\n",
    "     'learning_rate':0.1,\n",
    "     'max_depth':3,\n",
    "      'metric':'auc',\n",
    "     'min_data_in_leaf':30,\n",
    "      'min_split_gain':0.5,\n",
    "     'num_leaves':10,\n",
    "     'objective':'binary',\n",
    "     'random_state':42,\n",
    "     'subsample':0.7\n",
    "     }"
   ]
  },
  {
   "cell_type": "code",
   "execution_count": 10,
   "id": "30fe4c95",
   "metadata": {
    "execution": {
     "iopub.execute_input": "2022-05-19T19:12:33.872935Z",
     "iopub.status.busy": "2022-05-19T19:12:33.872549Z",
     "iopub.status.idle": "2022-05-19T19:13:08.433047Z",
     "shell.execute_reply": "2022-05-19T19:13:08.431764Z"
    },
    "papermill": {
     "duration": 34.593338,
     "end_time": "2022-05-19T19:13:08.450186",
     "exception": false,
     "start_time": "2022-05-19T19:12:33.856848",
     "status": "completed"
    },
    "tags": []
   },
   "outputs": [
    {
     "data": {
      "text/html": [
       "<div>\n",
       "<style scoped>\n",
       "    .dataframe tbody tr th:only-of-type {\n",
       "        vertical-align: middle;\n",
       "    }\n",
       "\n",
       "    .dataframe tbody tr th {\n",
       "        vertical-align: top;\n",
       "    }\n",
       "\n",
       "    .dataframe thead th {\n",
       "        text-align: right;\n",
       "    }\n",
       "</style>\n",
       "<table border=\"1\" class=\"dataframe\">\n",
       "  <thead>\n",
       "    <tr style=\"text-align: right;\">\n",
       "      <th></th>\n",
       "      <th>id</th>\n",
       "      <th>target</th>\n",
       "    </tr>\n",
       "  </thead>\n",
       "  <tbody>\n",
       "    <tr>\n",
       "      <th>0</th>\n",
       "      <td>300000</td>\n",
       "      <td>0.407673</td>\n",
       "    </tr>\n",
       "    <tr>\n",
       "      <th>1</th>\n",
       "      <td>300001</td>\n",
       "      <td>0.748431</td>\n",
       "    </tr>\n",
       "    <tr>\n",
       "      <th>2</th>\n",
       "      <td>300002</td>\n",
       "      <td>0.154437</td>\n",
       "    </tr>\n",
       "    <tr>\n",
       "      <th>3</th>\n",
       "      <td>300003</td>\n",
       "      <td>0.504890</td>\n",
       "    </tr>\n",
       "    <tr>\n",
       "      <th>4</th>\n",
       "      <td>300004</td>\n",
       "      <td>0.895854</td>\n",
       "    </tr>\n",
       "  </tbody>\n",
       "</table>\n",
       "</div>"
      ],
      "text/plain": [
       "       id    target\n",
       "0  300000  0.407673\n",
       "1  300001  0.748431\n",
       "2  300002  0.154437\n",
       "3  300003  0.504890\n",
       "4  300004  0.895854"
      ]
     },
     "execution_count": 10,
     "metadata": {},
     "output_type": "execute_result"
    }
   ],
   "source": [
    "model=LogisticRegression(C=0.09968474250024324, class_weight={0:1, 1:1.3267279323409777},max_iter=10000, solver='liblinear')\n",
    "model.fit(train_ohe, target)\n",
    "predictions=model.predict_proba(test_ohe)[:,1]\n",
    "submission = pd.DataFrame({'id': test_id, 'target': predictions})\n",
    "submission.to_csv('submission.csv', index=False)\n",
    "submission.head()"
   ]
  }
 ],
 "metadata": {
  "kernelspec": {
   "display_name": "Python 3",
   "language": "python",
   "name": "python3"
  },
  "language_info": {
   "codemirror_mode": {
    "name": "ipython",
    "version": 3
   },
   "file_extension": ".py",
   "mimetype": "text/x-python",
   "name": "python",
   "nbconvert_exporter": "python",
   "pygments_lexer": "ipython3",
   "version": "3.7.12"
  },
  "papermill": {
   "default_parameters": {},
   "duration": 369.491146,
   "end_time": "2022-05-19T19:13:10.297194",
   "environment_variables": {},
   "exception": null,
   "input_path": "__notebook__.ipynb",
   "output_path": "__notebook__.ipynb",
   "parameters": {},
   "start_time": "2022-05-19T19:07:00.806048",
   "version": "2.3.4"
  }
 },
 "nbformat": 4,
 "nbformat_minor": 5
}
